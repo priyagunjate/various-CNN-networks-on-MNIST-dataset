{
 "cells": [
  {
   "cell_type": "markdown",
   "metadata": {
    "colab_type": "text",
    "id": "BS5cgNyDi_Z6"
   },
   "source": [
    "# Assignment-13: Try various CNN networks on MNIST dataset [M]"
   ]
  },
  {
   "cell_type": "markdown",
   "metadata": {
    "colab_type": "text",
    "id": "EjG5ElY1GnBt"
   },
   "source": [
    "Three different architecture of CNN network on MNIST datasets.MNIST datasets contains handwritten images .\n",
    "### Objective:\n",
    "        1) 3_ConvNets with kernel 3x3\n",
    "        2) 5_ConvNets with kernel 5x5\n",
    "        3) 7_ConvnNets with kernel 2x2\n",
    "        \n",
    " "
   ]
  },
  {
   "cell_type": "code",
   "execution_count": 0,
   "metadata": {
    "colab": {},
    "colab_type": "code",
    "id": "gp6JKfZwj0m1"
   },
   "outputs": [],
   "source": [
    "# Credits: https://github.com/keras-team/keras/blob/master/examples/mnist_cnn.py\n",
    "\n",
    "from datetime import datetime\n",
    "from __future__ import print_function\n",
    "import keras\n",
    "from keras.datasets import mnist\n",
    "from keras.models import Sequential\n",
    "from keras.layers import Dense, Dropout, Flatten\n",
    "from keras.layers import Conv2D, MaxPooling2D\n",
    "from keras import backend as K\n",
    "\n",
    "from keras.initializers import he_normal\n",
    "from keras.layers.normalization import BatchNormalization\n",
    "\n",
    "\n",
    "batch_size = 128\n",
    "num_classes = 10\n",
    "epochs = 12\n",
    "\n",
    "# input image dimensions\n",
    "img_rows, img_cols = 28, 28\n",
    "\n"
   ]
  },
  {
   "cell_type": "markdown",
   "metadata": {
    "colab_type": "text",
    "id": "P_VnVojolwhT"
   },
   "source": [
    "The data, split between train and test sets"
   ]
  },
  {
   "cell_type": "code",
   "execution_count": 0,
   "metadata": {
    "colab": {},
    "colab_type": "code",
    "id": "algU_PIrlvZp"
   },
   "outputs": [],
   "source": [
    "# \n",
    "(x_train, y_train), (x_test, y_test) = mnist.load_data()"
   ]
  },
  {
   "cell_type": "code",
   "execution_count": 12,
   "metadata": {
    "colab": {
     "base_uri": "https://localhost:8080/",
     "height": 69
    },
    "colab_type": "code",
    "executionInfo": {
     "elapsed": 903,
     "status": "ok",
     "timestamp": 1548216564549,
     "user": {
      "displayName": "Priya G",
      "photoUrl": "https://lh5.googleusercontent.com/-ulFA1q-SBEw/AAAAAAAAAAI/AAAAAAAAAaU/81PbAjtRvqw/s64/photo.jpg",
      "userId": "05458747731883366595"
     },
     "user_tz": -330
    },
    "id": "DMfusq8JkmpE",
    "outputId": "3bc4465e-3126-477d-aa56-ea604fb7912d"
   },
   "outputs": [
    {
     "name": "stdout",
     "output_type": "stream",
     "text": [
      "x_train shape: (60000, 28, 28, 1)\n",
      "60000 train samples\n",
      "10000 test samples\n"
     ]
    }
   ],
   "source": [
    "if K.image_data_format() == 'channels_first':\n",
    "    x_train = x_train.reshape(x_train.shape[0], 1, img_rows, img_cols)\n",
    "    x_test = x_test.reshape(x_test.shape[0], 1, img_rows, img_cols)\n",
    "    input_shape = (1, img_rows, img_cols)\n",
    "else:\n",
    "    x_train = x_train.reshape(x_train.shape[0], img_rows, img_cols, 1)\n",
    "    x_test = x_test.reshape(x_test.shape[0], img_rows, img_cols, 1)\n",
    "    input_shape = (img_rows, img_cols, 1)\n",
    "\n",
    "x_train = x_train.astype('float32')\n",
    "x_test = x_test.astype('float32')\n",
    "x_train /= 255\n",
    "x_test /= 255\n",
    "print('x_train shape:', x_train.shape)\n",
    "print(x_train.shape[0], 'train samples')\n",
    "print(x_test.shape[0], 'test samples')\n",
    "\n",
    "# convert class vectors to binary class matrices\n",
    "y_train = keras.utils.to_categorical(y_train, num_classes)\n",
    "y_test = keras.utils.to_categorical(y_test, num_classes)"
   ]
  },
  {
   "cell_type": "code",
   "execution_count": 13,
   "metadata": {
    "colab": {
     "base_uri": "https://localhost:8080/",
     "height": 35
    },
    "colab_type": "code",
    "executionInfo": {
     "elapsed": 877,
     "status": "ok",
     "timestamp": 1548216567258,
     "user": {
      "displayName": "Priya G",
      "photoUrl": "https://lh5.googleusercontent.com/-ulFA1q-SBEw/AAAAAAAAAAI/AAAAAAAAAaU/81PbAjtRvqw/s64/photo.jpg",
      "userId": "05458747731883366595"
     },
     "user_tz": -330
    },
    "id": "8AqGdj8clq-e",
    "outputId": "d4f5ce29-aee2-4356-abcf-e658c52a6cd8"
   },
   "outputs": [
    {
     "name": "stdout",
     "output_type": "stream",
     "text": [
      "(60000, 10)\n"
     ]
    }
   ],
   "source": [
    "print(y_train.shape)"
   ]
  },
  {
   "cell_type": "code",
   "execution_count": 0,
   "metadata": {
    "colab": {},
    "colab_type": "code",
    "id": "lU9C3pfXmHcY"
   },
   "outputs": [],
   "source": [
    "%matplotlib inline\n",
    "import matplotlib.pyplot as plt\n",
    "import numpy as np\n",
    "import time\n",
    "# https://gist.github.com/greydanus/f6eee59eaf1d90fcb3b534a25362cea4\n",
    "# https://stackoverflow.com/a/14434334\n",
    "# this function is used to update the plots for each epoch and error\n",
    "def plt_dynamic(x, vy, ty):\n",
    "  fig = plt.figure( facecolor='y', edgecolor='k')\n",
    "  plt.plot(x, vy, 'b', label=\"Validation Loss\")\n",
    "  plt.plot(x, ty, 'r', label=\"Train Loss\")\n",
    "  plt.xlabel('Epochs') \n",
    "  plt.ylabel('Categorical Crossentropy Loss')\n",
    "  plt.legend()\n",
    "  plt.grid()\n",
    "  plt.show()"
   ]
  },
  {
   "cell_type": "markdown",
   "metadata": {
    "colab_type": "text",
    "id": "GiojbGX3naTL"
   },
   "source": [
    "## 1 Model 1:CNN with 3 ConvNet & 3x3 kernel size\n"
   ]
  },
  {
   "cell_type": "code",
   "execution_count": 17,
   "metadata": {
    "colab": {
     "base_uri": "https://localhost:8080/",
     "height": 503
    },
    "colab_type": "code",
    "executionInfo": {
     "elapsed": 975,
     "status": "ok",
     "timestamp": 1548216861701,
     "user": {
      "displayName": "Priya G",
      "photoUrl": "https://lh5.googleusercontent.com/-ulFA1q-SBEw/AAAAAAAAAAI/AAAAAAAAAaU/81PbAjtRvqw/s64/photo.jpg",
      "userId": "05458747731883366595"
     },
     "user_tz": -330
    },
    "id": "QrFD4UC9nPqZ",
    "outputId": "72dc5b66-886a-4e82-cdd0-72aa73ae45c3"
   },
   "outputs": [
    {
     "name": "stdout",
     "output_type": "stream",
     "text": [
      "_________________________________________________________________\n",
      "Layer (type)                 Output Shape              Param #   \n",
      "=================================================================\n",
      "conv2d_7 (Conv2D)            (None, 26, 26, 32)        320       \n",
      "_________________________________________________________________\n",
      "conv2d_8 (Conv2D)            (None, 24, 24, 64)        18496     \n",
      "_________________________________________________________________\n",
      "dropout_6 (Dropout)          (None, 24, 24, 64)        0         \n",
      "_________________________________________________________________\n",
      "conv2d_9 (Conv2D)            (None, 22, 22, 128)       73856     \n",
      "_________________________________________________________________\n",
      "max_pooling2d_3 (MaxPooling2 (None, 11, 11, 128)       0         \n",
      "_________________________________________________________________\n",
      "dropout_7 (Dropout)          (None, 11, 11, 128)       0         \n",
      "_________________________________________________________________\n",
      "flatten_3 (Flatten)          (None, 15488)             0         \n",
      "_________________________________________________________________\n",
      "dense_3 (Dense)              (None, 256)               3965184   \n",
      "_________________________________________________________________\n",
      "dropout_8 (Dropout)          (None, 256)               0         \n",
      "_________________________________________________________________\n",
      "dense_4 (Dense)              (None, 10)                2570      \n",
      "=================================================================\n",
      "Total params: 4,060,426\n",
      "Trainable params: 4,060,426\n",
      "Non-trainable params: 0\n",
      "_________________________________________________________________\n",
      "None\n"
     ]
    }
   ],
   "source": [
    "convnet3=Sequential() # Initializing the model\n",
    "\n",
    "# First ConvNet\n",
    "convnet3.add(Conv2D(32,kernel_size=(3,3),\n",
    "                    activation='relu',\n",
    "                    input_shape=input_shape))\n",
    "\n",
    "convnet3.add(Conv2D(64,kernel_size=(3,3),\n",
    "                    activation='relu'))\n",
    "\n",
    "convnet3.add(Dropout(0.25))\n",
    "\n",
    "convnet3.add(Conv2D(128,kernel_size=(3,3),\n",
    "                   activation='relu'))\n",
    "#maxpooling by (2,2 ) ,dropout,flattening\n",
    "convnet3.add(MaxPooling2D(pool_size=(2,2)))\n",
    "convnet3.add(Dropout(0.25))\n",
    "convnet3.add(Flatten())\n",
    "\n",
    "#hidden_layer\n",
    "convnet3.add(Dense(256,\n",
    "                   activation='relu',\n",
    "                   kernel_initializer=he_normal(seed=None)))\n",
    "convnet3.add(Dropout(0.5))\n",
    "convnet3.add(Dense(num_classes,activation='softmax'))\n",
    "print(convnet3.summary())\n"
   ]
  },
  {
   "cell_type": "code",
   "execution_count": 24,
   "metadata": {
    "colab": {
     "base_uri": "https://localhost:8080/",
     "height": 471
    },
    "colab_type": "code",
    "executionInfo": {
     "elapsed": 6693861,
     "status": "ok",
     "timestamp": 1548223821403,
     "user": {
      "displayName": "Priya G",
      "photoUrl": "https://lh5.googleusercontent.com/-ulFA1q-SBEw/AAAAAAAAAAI/AAAAAAAAAaU/81PbAjtRvqw/s64/photo.jpg",
      "userId": "05458747731883366595"
     },
     "user_tz": -330
    },
    "id": "Sa3uojKS5PXG",
    "outputId": "0b5cf1a1-2249-4786-fb44-38732cc1a165"
   },
   "outputs": [
    {
     "name": "stdout",
     "output_type": "stream",
     "text": [
      "Train on 60000 samples, validate on 10000 samples\n",
      "Epoch 1/12\n",
      "60000/60000 [==============================] - 555s 9ms/step - loss: 0.1380 - acc: 0.9585 - val_loss: 0.0364 - val_acc: 0.9878\n",
      "Epoch 2/12\n",
      "60000/60000 [==============================] - 555s 9ms/step - loss: 0.0576 - acc: 0.9823 - val_loss: 0.0297 - val_acc: 0.9906\n",
      "Epoch 3/12\n",
      "60000/60000 [==============================] - 555s 9ms/step - loss: 0.0420 - acc: 0.9872 - val_loss: 0.0289 - val_acc: 0.9908\n",
      "Epoch 4/12\n",
      "60000/60000 [==============================] - 553s 9ms/step - loss: 0.0333 - acc: 0.9898 - val_loss: 0.0252 - val_acc: 0.9923\n",
      "Epoch 5/12\n",
      "60000/60000 [==============================] - 557s 9ms/step - loss: 0.0290 - acc: 0.9909 - val_loss: 0.0218 - val_acc: 0.9931\n",
      "Epoch 6/12\n",
      "60000/60000 [==============================] - 555s 9ms/step - loss: 0.0247 - acc: 0.9919 - val_loss: 0.0231 - val_acc: 0.9930\n",
      "Epoch 7/12\n",
      "60000/60000 [==============================] - 557s 9ms/step - loss: 0.0219 - acc: 0.9929 - val_loss: 0.0259 - val_acc: 0.9920\n",
      "Epoch 8/12\n",
      "60000/60000 [==============================] - 555s 9ms/step - loss: 0.0197 - acc: 0.9937 - val_loss: 0.0237 - val_acc: 0.9929\n",
      "Epoch 9/12\n",
      "60000/60000 [==============================] - 563s 9ms/step - loss: 0.0172 - acc: 0.9943 - val_loss: 0.0209 - val_acc: 0.9938\n",
      "Epoch 10/12\n",
      "60000/60000 [==============================] - 561s 9ms/step - loss: 0.0142 - acc: 0.9953 - val_loss: 0.0285 - val_acc: 0.9916\n",
      "Epoch 11/12\n",
      "60000/60000 [==============================] - 564s 9ms/step - loss: 0.0149 - acc: 0.9956 - val_loss: 0.0222 - val_acc: 0.9940\n",
      "Epoch 12/12\n",
      "60000/60000 [==============================] - 562s 9ms/step - loss: 0.0131 - acc: 0.9957 - val_loss: 0.0259 - val_acc: 0.9938\n"
     ]
    }
   ],
   "source": [
    "#Model compilation\n",
    "convnet3.compile(optimizer=keras.optimizers.Adam(),\n",
    "                loss=keras.losses.categorical_crossentropy,\n",
    "                metrics=['accuracy'])\n",
    "convnet3_history=convnet3.fit(x_train,y_train,batch_size=batch_size,\n",
    "                             epochs=epochs,\n",
    "                             verbose=1,\n",
    "                             validation_data=(x_test, y_test))"
   ]
  },
  {
   "cell_type": "code",
   "execution_count": 32,
   "metadata": {
    "colab": {
     "base_uri": "https://localhost:8080/",
     "height": 314
    },
    "colab_type": "code",
    "executionInfo": {
     "elapsed": 23914,
     "status": "ok",
     "timestamp": 1548226854420,
     "user": {
      "displayName": "Priya G",
      "photoUrl": "https://lh5.googleusercontent.com/-ulFA1q-SBEw/AAAAAAAAAAI/AAAAAAAAAaU/81PbAjtRvqw/s64/photo.jpg",
      "userId": "05458747731883366595"
     },
     "user_tz": -330
    },
    "id": "osDtqmD27vYj",
    "outputId": "1905c542-a2c9-405d-e8e6-aa28f73d6842"
   },
   "outputs": [
    {
     "name": "stdout",
     "output_type": "stream",
     "text": [
      "test score : 0.025890892835492695\n",
      "test sccuracy : 0.9938\n"
     ]
    },
    {
     "data": {
      "image/png": "[encoded data removed]",
      "text/plain": [
       "<Figure size 432x288 with 1 Axes>"
      ]
     },
     "metadata": {
      "tags": []
     },
     "output_type": "display_data"
    }
   ],
   "source": [
    "#evaluating model\n",
    "\n",
    "score=convnet3.evaluate(x_test,y_test,verbose=0)\n",
    "test_score3=score[0]\n",
    "test_accuracy3=score[1]\n",
    "train_accuracy3=max(convnet3_history.history['acc'])\n",
    "print('test score :',test_score3)\n",
    "print('test sccuracy :',test_accuracy3)\n",
    "# error plot\n",
    "x=list(range(1,epochs+1))\n",
    "vy=convnet3_history.history['val_loss'] #validation loss\n",
    "ty=convnet3_history.history['loss'] # train loss\n",
    "plt_dynamic(x, vy, ty)\n",
    "\n",
    "\n",
    "\n"
   ]
  },
  {
   "cell_type": "markdown",
   "metadata": {
    "colab_type": "text",
    "id": "ozBPwTm7_CZ0"
   },
   "source": [
    "## 2 Model2:CNN with 5 ConvNet & kernel_size=(5x5)\n",
    "\n",
    "\n",
    "5 convNet  followed by maxpooling(2,2) and dropout"
   ]
  },
  {
   "cell_type": "code",
   "execution_count": 39,
   "metadata": {
    "colab": {
     "base_uri": "https://localhost:8080/",
     "height": 780
    },
    "colab_type": "code",
    "executionInfo": {
     "elapsed": 939,
     "status": "ok",
     "timestamp": 1548227095267,
     "user": {
      "displayName": "Priya G",
      "photoUrl": "https://lh5.googleusercontent.com/-ulFA1q-SBEw/AAAAAAAAAAI/AAAAAAAAAaU/81PbAjtRvqw/s64/photo.jpg",
      "userId": "05458747731883366595"
     },
     "user_tz": -330
    },
    "id": "y4ZJaGym6Vfj",
    "outputId": "ad91a441-575b-4a72-8aa1-8c0999a58124"
   },
   "outputs": [
    {
     "name": "stdout",
     "output_type": "stream",
     "text": [
      "_________________________________________________________________\n",
      "Layer (type)                 Output Shape              Param #   \n",
      "=================================================================\n",
      "conv2d_20 (Conv2D)           (None, 28, 28, 32)        832       \n",
      "_________________________________________________________________\n",
      "conv2d_21 (Conv2D)           (None, 28, 28, 64)        51264     \n",
      "_________________________________________________________________\n",
      "max_pooling2d_14 (MaxPooling (None, 14, 14, 64)        0         \n",
      "_________________________________________________________________\n",
      "dropout_17 (Dropout)         (None, 14, 14, 64)        0         \n",
      "_________________________________________________________________\n",
      "conv2d_22 (Conv2D)           (None, 14, 14, 96)        153696    \n",
      "_________________________________________________________________\n",
      "max_pooling2d_15 (MaxPooling (None, 7, 7, 96)          0         \n",
      "_________________________________________________________________\n",
      "dropout_18 (Dropout)         (None, 7, 7, 96)          0         \n",
      "_________________________________________________________________\n",
      "conv2d_23 (Conv2D)           (None, 7, 7, 128)         307328    \n",
      "_________________________________________________________________\n",
      "max_pooling2d_16 (MaxPooling (None, 3, 3, 128)         0         \n",
      "_________________________________________________________________\n",
      "dropout_19 (Dropout)         (None, 3, 3, 128)         0         \n",
      "_________________________________________________________________\n",
      "conv2d_24 (Conv2D)           (None, 3, 3, 164)         524964    \n",
      "_________________________________________________________________\n",
      "max_pooling2d_17 (MaxPooling (None, 1, 1, 164)         0         \n",
      "_________________________________________________________________\n",
      "dropout_20 (Dropout)         (None, 1, 1, 164)         0         \n",
      "_________________________________________________________________\n",
      "flatten_4 (Flatten)          (None, 164)               0         \n",
      "_________________________________________________________________\n",
      "dense_5 (Dense)              (None, 256)               42240     \n",
      "_________________________________________________________________\n",
      "batch_normalization_1 (Batch (None, 256)               1024      \n",
      "_________________________________________________________________\n",
      "dropout_21 (Dropout)         (None, 256)               0         \n",
      "_________________________________________________________________\n",
      "dense_6 (Dense)              (None, 10)                2570      \n",
      "=================================================================\n",
      "Total params: 1,083,918\n",
      "Trainable params: 1,083,406\n",
      "Non-trainable params: 512\n",
      "_________________________________________________________________\n",
      "None\n"
     ]
    }
   ],
   "source": [
    "convnet5=Sequential() # Initializing the model\n",
    "\n",
    "# First ConvNet\n",
    "convnet5.add(Conv2D(32,kernel_size=(5,5),\n",
    "                    activation='relu',\n",
    "                    padding='same',\n",
    "                    input_shape=input_shape))\n",
    "\n",
    "convnet5.add(Conv2D(64,kernel_size=(5,5),\n",
    "                    padding='same',\n",
    "                    activation='relu'))#Second Convnet\n",
    "convnet5.add(MaxPooling2D(pool_size=(2,2)))\n",
    "convnet5.add(Dropout(0.25))\n",
    "\n",
    "convnet5.add(Conv2D(96,kernel_size=(5,5),\n",
    "                    padding='same',\n",
    "                   activation='relu'))  # 3rd ConvNet\n",
    "#maxpooling by (2,2 ) ,dropout,flattening\n",
    "convnet5.add(MaxPooling2D(pool_size=(2,2)))\n",
    "convnet5.add(Dropout(0.25))\n",
    "\n",
    "convnet5.add(Conv2D(128,kernel_size=(5,5),\n",
    "                    padding='same',\n",
    "                    activation='relu'))#fourth Convnet\n",
    "convnet5.add(MaxPooling2D(pool_size=(2,2)))\n",
    "convnet5.add(Dropout(0.25))\n",
    "convnet5.add(Conv2D(164,kernel_size=(5,5),\n",
    "                    padding='same',\n",
    "                    activation='relu'))#fifth Convnet\n",
    "convnet5.add(MaxPooling2D(pool_size=(2,2)))\n",
    "convnet5.add(Dropout(0.25))\n",
    "convnet5.add(Flatten())\n",
    "\n",
    "#hidden_layer\n",
    "convnet5.add(Dense(256,\n",
    "                   activation='relu',\n",
    "                   kernel_initializer=he_normal(seed=None)))\n",
    "convnet5.add(BatchNormalization())\n",
    "convnet5.add(Dropout(0.5))\n",
    "convnet5.add(Dense(num_classes,activation='softmax'))\n",
    "print(convnet5.summary())\n"
   ]
  },
  {
   "cell_type": "code",
   "execution_count": 42,
   "metadata": {
    "colab": {
     "base_uri": "https://localhost:8080/",
     "height": 488
    },
    "colab_type": "code",
    "executionInfo": {
     "elapsed": 11748350,
     "status": "ok",
     "timestamp": 1548239715640,
     "user": {
      "displayName": "Priya G",
      "photoUrl": "https://lh5.googleusercontent.com/-ulFA1q-SBEw/AAAAAAAAAAI/AAAAAAAAAaU/81PbAjtRvqw/s64/photo.jpg",
      "userId": "05458747731883366595"
     },
     "user_tz": -330
    },
    "id": "mNwLeL44CeYA",
    "outputId": "56820d63-328f-4176-e180-b3b70111f315"
   },
   "outputs": [
    {
     "name": "stdout",
     "output_type": "stream",
     "text": [
      "Train on 60000 samples, validate on 10000 samples\n",
      "Epoch 1/12\n",
      "60000/60000 [==============================] - 983s 16ms/step - loss: 0.6764 - acc: 0.7753 - val_loss: 0.2016 - val_acc: 0.9378\n",
      "Epoch 2/12\n",
      "60000/60000 [==============================] - 981s 16ms/step - loss: 0.2034 - acc: 0.9396 - val_loss: 0.0988 - val_acc: 0.9679\n",
      "Epoch 3/12\n",
      "60000/60000 [==============================] - 989s 16ms/step - loss: 0.1265 - acc: 0.9634 - val_loss: 0.0604 - val_acc: 0.9821\n",
      "Epoch 4/12\n",
      "60000/60000 [==============================] - 985s 16ms/step - loss: 0.0895 - acc: 0.9740 - val_loss: 0.0415 - val_acc: 0.9863\n",
      "Epoch 5/12\n",
      "60000/60000 [==============================] - 977s 16ms/step - loss: 0.0737 - acc: 0.9792 - val_loss: 0.0374 - val_acc: 0.9872\n",
      "Epoch 6/12\n",
      "60000/60000 [==============================] - 970s 16ms/step - loss: 0.0607 - acc: 0.9823 - val_loss: 0.0290 - val_acc: 0.9909\n",
      "Epoch 7/12\n",
      "60000/60000 [==============================] - 970s 16ms/step - loss: 0.0521 - acc: 0.9851 - val_loss: 0.0277 - val_acc: 0.9921\n",
      "Epoch 8/12\n",
      "60000/60000 [==============================] - 972s 16ms/step - loss: 0.0494 - acc: 0.9860 - val_loss: 0.0279 - val_acc: 0.9917\n",
      "Epoch 9/12\n",
      "60000/60000 [==============================] - 972s 16ms/step - loss: 0.0423 - acc: 0.9872 - val_loss: 0.0291 - val_acc: 0.9910\n",
      "Epoch 10/12\n",
      "60000/60000 [==============================] - 985s 16ms/step - loss: 0.0390 - acc: 0.9885 - val_loss: 0.0289 - val_acc: 0.9921\n",
      "Epoch 11/12\n",
      "60000/60000 [==============================] - 982s 16ms/step - loss: 0.0356 - acc: 0.9902 - val_loss: 0.0199 - val_acc: 0.9938\n",
      "Epoch 12/12\n",
      "60000/60000 [==============================] - 981s 16ms/step - loss: 0.0320 - acc: 0.9905 - val_loss: 0.0234 - val_acc: 0.9930\n",
      "Time taken to run this cell : 3:15:47.690485\n"
     ]
    }
   ],
   "source": [
    "#Model compilation\n",
    "start = datetime.now()\n",
    "convnet5.compile(optimizer=keras.optimizers.Adam(),\n",
    "                loss=keras.losses.categorical_crossentropy,\n",
    "                metrics=['accuracy'])\n",
    "convnet5_history=convnet5.fit(x_train,y_train,batch_size=batch_size,\n",
    "                             epochs=epochs,\n",
    "                             verbose=1,\n",
    "                             validation_data=(x_test, y_test))\n",
    "print(\"Time taken to run this cell :\", datetime.now() - start)"
   ]
  },
  {
   "cell_type": "code",
   "execution_count": 43,
   "metadata": {
    "colab": {
     "base_uri": "https://localhost:8080/",
     "height": 316
    },
    "colab_type": "code",
    "executionInfo": {
     "elapsed": 39404,
     "status": "ok",
     "timestamp": 1548239795498,
     "user": {
      "displayName": "Priya G",
      "photoUrl": "https://lh5.googleusercontent.com/-ulFA1q-SBEw/AAAAAAAAAAI/AAAAAAAAAaU/81PbAjtRvqw/s64/photo.jpg",
      "userId": "05458747731883366595"
     },
     "user_tz": -330
    },
    "id": "u22s1d2KCq6n",
    "outputId": "6f499e5a-882b-40e0-da56-75cb18027050"
   },
   "outputs": [
    {
     "name": "stdout",
     "output_type": "stream",
     "text": [
      "test score : 0.023384571030837107\n",
      "test Accuracy : 0.993\n"
     ]
    },
    {
     "data": {
      "image/png": "[encoded data removed]",
      "text/plain": [
       "<Figure size 432x288 with 1 Axes>"
      ]
     },
     "metadata": {
      "tags": []
     },
     "output_type": "display_data"
    }
   ],
   "source": [
    "#evaluating model\n",
    "score=convnet5.evaluate(x_test,y_test,verbose=0)\n",
    "test_score5=score[0]\n",
    "test_accuracy5=score[1]\n",
    "train_accuracy5=max(convnet5_history.history['acc'])\n",
    "print('test score :',test_score5)\n",
    "print('test Accuracy :',test_accuracy5)\n",
    "# error plot\n",
    "x=list(range(1,epochs+1))\n",
    "vy=convnet5_history.history['val_loss'] #validation loss\n",
    "ty=convnet5_history.history['loss'] # train loss\n",
    "plt_dynamic(x, vy, ty)\n",
    "\n",
    "\n",
    "\n"
   ]
  },
  {
   "cell_type": "markdown",
   "metadata": {
    "colab_type": "text",
    "id": "hRKboscvC1dI"
   },
   "source": [
    "## 3 Model3:CNN with 7 ConvNet & kernel_size=(2x2)\n",
    "\n",
    "\n",
    "5 convNet  followed by maxpooling(2,2) and dropout"
   ]
  },
  {
   "cell_type": "code",
   "execution_count": 49,
   "metadata": {
    "colab": {
     "base_uri": "https://localhost:8080/",
     "height": 1023
    },
    "colab_type": "code",
    "executionInfo": {
     "elapsed": 1179,
     "status": "ok",
     "timestamp": 1548239984835,
     "user": {
      "displayName": "Priya G",
      "photoUrl": "https://lh5.googleusercontent.com/-ulFA1q-SBEw/AAAAAAAAAAI/AAAAAAAAAaU/81PbAjtRvqw/s64/photo.jpg",
      "userId": "05458747731883366595"
     },
     "user_tz": -330
    },
    "id": "PL5TOYRmC6M8",
    "outputId": "959735a1-29a9-40ad-ed62-247bf23f3102"
   },
   "outputs": [
    {
     "name": "stdout",
     "output_type": "stream",
     "text": [
      "_________________________________________________________________\n",
      "Layer (type)                 Output Shape              Param #   \n",
      "=================================================================\n",
      "conv2d_56 (Conv2D)           (None, 28, 28, 16)        80        \n",
      "_________________________________________________________________\n",
      "conv2d_57 (Conv2D)           (None, 14, 14, 32)        2080      \n",
      "_________________________________________________________________\n",
      "conv2d_58 (Conv2D)           (None, 14, 14, 64)        8256      \n",
      "_________________________________________________________________\n",
      "dropout_41 (Dropout)         (None, 14, 14, 64)        0         \n",
      "_________________________________________________________________\n",
      "conv2d_59 (Conv2D)           (None, 14, 14, 96)        24672     \n",
      "_________________________________________________________________\n",
      "max_pooling2d_37 (MaxPooling (None, 7, 7, 96)          0         \n",
      "_________________________________________________________________\n",
      "dropout_42 (Dropout)         (None, 7, 7, 96)          0         \n",
      "_________________________________________________________________\n",
      "conv2d_60 (Conv2D)           (None, 7, 7, 128)         49280     \n",
      "_________________________________________________________________\n",
      "max_pooling2d_38 (MaxPooling (None, 3, 3, 128)         0         \n",
      "_________________________________________________________________\n",
      "dropout_43 (Dropout)         (None, 3, 3, 128)         0         \n",
      "_________________________________________________________________\n",
      "conv2d_61 (Conv2D)           (None, 3, 3, 164)         84132     \n",
      "_________________________________________________________________\n",
      "conv2d_62 (Conv2D)           (None, 3, 3, 164)         107748    \n",
      "_________________________________________________________________\n",
      "max_pooling2d_39 (MaxPooling (None, 1, 1, 164)         0         \n",
      "_________________________________________________________________\n",
      "dropout_44 (Dropout)         (None, 1, 1, 164)         0         \n",
      "_________________________________________________________________\n",
      "flatten_6 (Flatten)          (None, 164)               0         \n",
      "_________________________________________________________________\n",
      "dense_11 (Dense)             (None, 256)               42240     \n",
      "_________________________________________________________________\n",
      "batch_normalization_5 (Batch (None, 256)               1024      \n",
      "_________________________________________________________________\n",
      "dropout_45 (Dropout)         (None, 256)               0         \n",
      "_________________________________________________________________\n",
      "dense_12 (Dense)             (None, 148)               38036     \n",
      "_________________________________________________________________\n",
      "batch_normalization_6 (Batch (None, 148)               592       \n",
      "_________________________________________________________________\n",
      "dropout_46 (Dropout)         (None, 148)               0         \n",
      "_________________________________________________________________\n",
      "dense_13 (Dense)             (None, 128)               19072     \n",
      "_________________________________________________________________\n",
      "batch_normalization_7 (Batch (None, 128)               512       \n",
      "_________________________________________________________________\n",
      "dropout_47 (Dropout)         (None, 128)               0         \n",
      "_________________________________________________________________\n",
      "dense_14 (Dense)             (None, 10)                1290      \n",
      "=================================================================\n",
      "Total params: 379,014\n",
      "Trainable params: 377,950\n",
      "Non-trainable params: 1,064\n",
      "_________________________________________________________________\n",
      "None\n"
     ]
    }
   ],
   "source": [
    "convnet7=Sequential() # Initializing the model\n",
    "\n",
    "# First ConvNet\n",
    "convnet7.add(Conv2D(16,kernel_size=(2,2),\n",
    "                    activation='relu',\n",
    "                    padding='same',strides=(1,1),\n",
    "                    input_shape=input_shape))\n",
    "\n",
    "\n",
    "convnet7.add(Conv2D(32,kernel_size=(2,2),\n",
    "                    padding='same',strides=(2,2),\n",
    "                    activation='relu'))#Second Convnet\n",
    "#convnet7.add(MaxPooling2D(pool_size=(2,2)))\n",
    "#convnet7.add(Dropout(0.25))\n",
    "\n",
    "convnet7.add(Conv2D(64,kernel_size=(2,2),\n",
    "                    padding='same',\n",
    "                   activation='relu'))  # 3rd ConvNet\n",
    "#maxpooling by (2,2 ) ,dropout,flattening\n",
    "#convnet7.add(MaxPooling2D(pool_size=(2,2)))\n",
    "convnet7.add(Dropout(0.15))\n",
    "\n",
    "convnet7.add(Conv2D(96,kernel_size=(2,2),\n",
    "                    padding='same',\n",
    "                    activation='relu'))#fourth Convnet\n",
    "convnet7.add(MaxPooling2D(pool_size=(2,2)))\n",
    "convnet7.add(Dropout(0.39))\n",
    "convnet7.add(Conv2D(128,kernel_size=(2,2),\n",
    "                    padding='same',\n",
    "                    activation='relu'))#fifth Convnet\n",
    "convnet7.add(MaxPooling2D(pool_size=(2,2)))\n",
    "convnet7.add(Dropout(0.3))\n",
    "convnet7.add(Conv2D(164,kernel_size=(2,2),\n",
    "                    padding='same',\n",
    "                    activation='relu'))#sixth Convnet\n",
    "convnet7.add(Conv2D(164,kernel_size=(2,2),\n",
    "                    padding='same',strides=(1,1),\n",
    "                    activation='relu'))#seventh Convnet\n",
    "\n",
    "convnet7.add(MaxPooling2D(pool_size=(2,2)))\n",
    "convnet7.add(Dropout(0.4))\n",
    "convnet7.add(Flatten())\n",
    "\n",
    "#hidden_layer\n",
    "convnet7.add(Dense(256,\n",
    "                   activation='relu',\n",
    "                   kernel_initializer=he_normal(seed=None)))#1 hidden layer\n",
    "convnet7.add(BatchNormalization())\n",
    "convnet7.add(Dropout(0.5))\n",
    "convnet7.add(Dense(148,\n",
    "                   activation='relu',\n",
    "                   kernel_initializer=he_normal(seed=None)))#2 hidden layer\n",
    "convnet7.add(BatchNormalization())\n",
    "convnet7.add(Dropout(0.5))\n",
    "convnet7.add(Dense(128,\n",
    "                   activation='relu',\n",
    "                   kernel_initializer=he_normal(seed=None)))#3 hidden layer\n",
    "convnet7.add(BatchNormalization())\n",
    "convnet7.add(Dropout(0.5))\n",
    "convnet7.add(Dense(num_classes,activation='softmax'))\n",
    "print(convnet7.summary())\n"
   ]
  },
  {
   "cell_type": "code",
   "execution_count": 50,
   "metadata": {
    "colab": {
     "base_uri": "https://localhost:8080/",
     "height": 488
    },
    "colab_type": "code",
    "executionInfo": {
     "elapsed": 1967720,
     "status": "ok",
     "timestamp": 1548241981121,
     "user": {
      "displayName": "Priya G",
      "photoUrl": "https://lh5.googleusercontent.com/-ulFA1q-SBEw/AAAAAAAAAAI/AAAAAAAAAaU/81PbAjtRvqw/s64/photo.jpg",
      "userId": "05458747731883366595"
     },
     "user_tz": -330
    },
    "id": "73wzccKvE_Tj",
    "outputId": "34887749-0028-4c74-af41-d72214df6e99"
   },
   "outputs": [
    {
     "name": "stdout",
     "output_type": "stream",
     "text": [
      "Train on 60000 samples, validate on 10000 samples\n",
      "Epoch 1/12\n",
      "60000/60000 [==============================] - 168s 3ms/step - loss: 1.9486 - acc: 0.3600 - val_loss: 0.8981 - val_acc: 0.6529\n",
      "Epoch 2/12\n",
      "60000/60000 [==============================] - 162s 3ms/step - loss: 0.4479 - acc: 0.8694 - val_loss: 0.0940 - val_acc: 0.9737\n",
      "Epoch 3/12\n",
      "60000/60000 [==============================] - 163s 3ms/step - loss: 0.1987 - acc: 0.9485 - val_loss: 0.0649 - val_acc: 0.9835\n",
      "Epoch 4/12\n",
      "60000/60000 [==============================] - 164s 3ms/step - loss: 0.1433 - acc: 0.9640 - val_loss: 0.0442 - val_acc: 0.9873\n",
      "Epoch 5/12\n",
      "60000/60000 [==============================] - 163s 3ms/step - loss: 0.1137 - acc: 0.9715 - val_loss: 0.0675 - val_acc: 0.9833\n",
      "Epoch 6/12\n",
      "60000/60000 [==============================] - 163s 3ms/step - loss: 0.1026 - acc: 0.9748 - val_loss: 0.0373 - val_acc: 0.9905\n",
      "Epoch 7/12\n",
      "60000/60000 [==============================] - 164s 3ms/step - loss: 0.0904 - acc: 0.9783 - val_loss: 0.0384 - val_acc: 0.9900\n",
      "Epoch 8/12\n",
      "60000/60000 [==============================] - 165s 3ms/step - loss: 0.0869 - acc: 0.9790 - val_loss: 0.0333 - val_acc: 0.9918\n",
      "Epoch 9/12\n",
      "60000/60000 [==============================] - 165s 3ms/step - loss: 0.0747 - acc: 0.9818 - val_loss: 0.0298 - val_acc: 0.9928\n",
      "Epoch 10/12\n",
      "60000/60000 [==============================] - 162s 3ms/step - loss: 0.0719 - acc: 0.9820 - val_loss: 0.0302 - val_acc: 0.9931\n",
      "Epoch 11/12\n",
      "60000/60000 [==============================] - 163s 3ms/step - loss: 0.0666 - acc: 0.9830 - val_loss: 0.0275 - val_acc: 0.9932\n",
      "Epoch 12/12\n",
      "60000/60000 [==============================] - 163s 3ms/step - loss: 0.0633 - acc: 0.9844 - val_loss: 0.0330 - val_acc: 0.9926\n",
      "Time taken to run this cell : 0:32:47.172971\n"
     ]
    }
   ],
   "source": [
    "#Model compilation\n",
    "start=datetime.now()\n",
    "convnet7.compile(optimizer=keras.optimizers.Adam(),\n",
    "                loss=keras.losses.categorical_crossentropy,\n",
    "                metrics=['accuracy'])\n",
    "convnet7_history=convnet7.fit(x_train,y_train,batch_size=batch_size,\n",
    "                             epochs=epochs,\n",
    "                             verbose=1,\n",
    "                             validation_data=(x_test, y_test))\n",
    "print(\"Time taken to run this cell :\", datetime.now() - start)"
   ]
  },
  {
   "cell_type": "code",
   "execution_count": 51,
   "metadata": {
    "colab": {
     "base_uri": "https://localhost:8080/",
     "height": 314
    },
    "colab_type": "code",
    "executionInfo": {
     "elapsed": 8609,
     "status": "ok",
     "timestamp": 1548242780443,
     "user": {
      "displayName": "Priya G",
      "photoUrl": "https://lh5.googleusercontent.com/-ulFA1q-SBEw/AAAAAAAAAAI/AAAAAAAAAaU/81PbAjtRvqw/s64/photo.jpg",
      "userId": "05458747731883366595"
     },
     "user_tz": -330
    },
    "id": "xOhgs7U7FHQk",
    "outputId": "05b741cb-2c96-4f17-9fff-815c025d3248"
   },
   "outputs": [
    {
     "name": "stdout",
     "output_type": "stream",
     "text": [
      "test score : 0.032985285274824125\n",
      "test Accuracy : 0.9926\n"
     ]
    },
    {
     "data": {
      "image/png": "[encoded data removed]",
      "text/plain": [
       "<Figure size 432x288 with 1 Axes>"
      ]
     },
     "metadata": {
      "tags": []
     },
     "output_type": "display_data"
    }
   ],
   "source": [
    "#evaluating model\n",
    "score=convnet7.evaluate(x_test,y_test,verbose=0)\n",
    "test_score7=score[0]\n",
    "test_accuracy7=score[1]\n",
    "train_accuracy7=max(convnet7_history.history['acc'])\n",
    "print('test score :',test_score7)\n",
    "print('test Accuracy :',test_accuracy7)\n",
    "# error plot\n",
    "x=list(range(1,epochs+1))\n",
    "vy=convnet7_history.history['val_loss'] #validation loss\n",
    "ty=convnet7_history.history['loss'] # train loss\n",
    "plt_dynamic(x, vy, ty)\n",
    "\n",
    "\n",
    "\n"
   ]
  },
  {
   "cell_type": "markdown",
   "metadata": {
    "colab_type": "text",
    "id": "NjuhVrKeFQem"
   },
   "source": [
    "# Observation"
   ]
  },
  {
   "cell_type": "code",
   "execution_count": 53,
   "metadata": {
    "colab": {
     "base_uri": "https://localhost:8080/",
     "height": 159
    },
    "colab_type": "code",
    "executionInfo": {
     "elapsed": 824,
     "status": "ok",
     "timestamp": 1548242799951,
     "user": {
      "displayName": "Priya G",
      "photoUrl": "https://lh5.googleusercontent.com/-ulFA1q-SBEw/AAAAAAAAAAI/AAAAAAAAAaU/81PbAjtRvqw/s64/photo.jpg",
      "userId": "05458747731883366595"
     },
     "user_tz": -330
    },
    "id": "duvGd2U7FSZo",
    "outputId": "07dc8253-8bb7-4bcd-9d52-84fd475314ab"
   },
   "outputs": [
    {
     "name": "stdout",
     "output_type": "stream",
     "text": [
      "+--------+--------------------------+--------------------+------------------+\n",
      "| INDEX. |        MODEL_NAME        | TRAINING ACCURACY  | TESTING ACCURACY |\n",
      "+--------+--------------------------+--------------------+------------------+\n",
      "|   1    | 3ConvNet with kernel 3x3 | 0.9957166666666667 |      0.9938      |\n",
      "|   2    | 5ConvNet with kernel 5x5 | 0.9905000000317892 |      0.993       |\n",
      "|   3    | 7ConvNet with kernel 2x2 | 0.9844166666348775 |      0.9926      |\n",
      "+--------+--------------------------+--------------------+------------------+\n"
     ]
    }
   ],
   "source": [
    "from prettytable import PrettyTable\n",
    "models=['3ConvNet with kernel 3x3',\n",
    "        '5ConvNet with kernel 5x5',\n",
    "        '7ConvNet with kernel 2x2']\n",
    "training_accuracy=[train_accuracy3,train_accuracy5,train_accuracy7]\n",
    "test_accuracy=[test_accuracy3,test_accuracy5,test_accuracy7]\n",
    "INDEX = [1,2,3]\n",
    "# Initializing prettytable\n",
    "Model_Performance = PrettyTable()\n",
    "# Adding columns\n",
    "Model_Performance.add_column(\"INDEX.\",INDEX)\n",
    "Model_Performance.add_column(\"MODEL_NAME\",models)\n",
    "Model_Performance.add_column(\"TRAINING ACCURACY\",training_accuracy)\n",
    "Model_Performance.add_column(\"TESTING ACCURACY\",test_accuracy)\n",
    "#Model_Performance.add_column(\"TEST SCORE\",test_score)\n",
    "\n",
    "# Printing the Model_Performance\n",
    "print(Model_Performance)\n",
    "     "
   ]
  },
  {
   "cell_type": "markdown",
   "metadata": {
    "colab_type": "text",
    "id": "N_X_YZzAeM_g"
   },
   "source": [
    "* from graphs in model1,model2 and model 3\n",
    "model3 gives best plot amongst other model.\n",
    "* Non_trainable params:\n",
    "       Model1=0\n",
    "       Model2=512\n",
    "       Model3=1064\n",
    "* The Training time for model2 and model1 is very high comapratively model3. \n",
    "* Model performance with three different CNN model is shown in above table.\n"
   ]
  },
  {
   "cell_type": "code",
   "execution_count": 0,
   "metadata": {
    "colab": {},
    "colab_type": "code",
    "id": "a2q5PVhrdhjC"
   },
   "outputs": [],
   "source": []
  }
 ],
 "metadata": {
  "colab": {
   "collapsed_sections": [],
   "name": "Assignment13.ipynb",
   "provenance": [],
   "version": "0.3.2"
  },
  "kernelspec": {
   "display_name": "Python 3",
   "language": "python",
   "name": "python3"
  },
  "language_info": {
   "codemirror_mode": {
    "name": "ipython",
    "version": 3
   },
   "file_extension": ".py",
   "mimetype": "text/x-python",
   "name": "python",
   "nbconvert_exporter": "python",
   "pygments_lexer": "ipython3",
   "version": "3.6.5"
  }
 },
 "nbformat": 4,
 "nbformat_minor": 1
}
